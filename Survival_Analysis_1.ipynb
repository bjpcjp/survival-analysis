{
 "cells": [
  {
   "cell_type": "markdown",
   "metadata": {},
   "source": [
    "# Survival Analysis, Pt 1\n",
    "- Survival analysis is used to find out the time it takes for an event of interest to occur.\n",
    "- In cancer studies, most survival analyses use the following methods:\n",
    "    - (1) Kaplan-Meier plots: visualizes survival curves.\n",
    "    - (2) Nelson-Aalen plots: visualizes cumulative hazard.\n",
    "    - (3) Log-rank tests: compares the survival curves of two or more groups\n",
    "    - (4) Cox proportional hazards regression: finds the effect of different variables on survival."
   ]
  },
  {
   "cell_type": "markdown",
   "metadata": {},
   "source": [
    "## Cancer studies - event types\n",
    "- Survival Time: an amount of time until a subject is alive or actively participates in a survey.\n",
    "- Three event types:\n",
    "    - Relapse: a deterioration in someone’s state of health after a temporary improvement.\n",
    "    - Progression: the process of developing or moving gradually towards a more advanced state. (Improvement in health.)\n",
    "    - Death: the destruction or permanent end of something."
   ]
  },
  {
   "cell_type": "markdown",
   "metadata": {},
   "source": [
    "## Censoring\n",
    "- There is a possibility that an event may not be observed for various reasons. These are known as censored observations. Censoring may arise in the following ways:\n",
    "    - A patient has not (yet) experienced the event of interest (death or relapse in our case) within the study period.\n",
    "    - A patient is not followed anymore. \n",
    "    - Follow-up might not be possible for the hospital staff. (Ex: if the patient moves.)\n",
    "\n",
    "- Three types of censoring:\n",
    "    - Right Censoring: The death of the person.\n",
    "    - Left Censoring: The event can’t be observed for some reason. It includes events that occurred before the experiment started.\n",
    "    - Interval Censoring: When we have data for some intervals only."
   ]
  },
  {
   "cell_type": "markdown",
   "metadata": {},
   "source": [
    "## Survival and hazard functions\n",
    "- We generally use two related probabilities to analyse survival data.\n",
    "    - Survival probability\n",
    "    - Hazard probability\n",
    "- To find survival probability, we’ll be using survivor function S(t), which is the **Kaplan-Meier Estimator**. \n",
    "- Survival probability is the probability that an individual survives from the time origin (e.g., diagnosis of cancer) to a specified future time t. \n",
    "- For example, S(200) = 0.7 means: 200 days after a cancer diagnosis, the patient’s survival probability is 0.7. If the person stays alive at the end of an experiment, then that data will be censored.\n",
    "- The hazard probability, denoted by h(t), is the probability that a patient under observation at a time t has an event at that time. For example, h(200) = 0.7 indicates the probability of that person being dead at time t=200 days is 0.7.\n",
    "- Note: the survivor function focuses on **not having an event**. The hazard function focuses on the event **occurring**.\n",
    "\n"
   ]
  },
  {
   "cell_type": "markdown",
   "metadata": {},
   "source": [
    "- [Lifelines - Python survival analysis package (readthedocs)](https://lifelines.readthedocs.io/en/latest/)\n",
    "- [NCCTG lung cancer dataset](http://www-eio.upc.edu/~pau/cms/rdata/csv/survival/lung.csv)"
   ]
  },
  {
   "cell_type": "code",
   "execution_count": 2,
   "metadata": {},
   "outputs": [],
   "source": [
    "# Import required libraries :\n",
    "\n",
    "import pandas as pd\n",
    "import numpy as np\n",
    "import matplotlib.pyplot as plt\n",
    "from lifelines import KaplanMeierFitter"
   ]
  },
  {
   "cell_type": "code",
   "execution_count": 3,
   "metadata": {},
   "outputs": [
    {
     "data": {
      "text/html": [
       "<div>\n",
       "<style scoped>\n",
       "    .dataframe tbody tr th:only-of-type {\n",
       "        vertical-align: middle;\n",
       "    }\n",
       "\n",
       "    .dataframe tbody tr th {\n",
       "        vertical-align: top;\n",
       "    }\n",
       "\n",
       "    .dataframe thead th {\n",
       "        text-align: right;\n",
       "    }\n",
       "</style>\n",
       "<table border=\"1\" class=\"dataframe\">\n",
       "  <thead>\n",
       "    <tr style=\"text-align: right;\">\n",
       "      <th></th>\n",
       "      <th>Unnamed: 0</th>\n",
       "      <th>inst</th>\n",
       "      <th>time</th>\n",
       "      <th>status</th>\n",
       "      <th>age</th>\n",
       "      <th>sex</th>\n",
       "      <th>ph.ecog</th>\n",
       "      <th>ph.karno</th>\n",
       "      <th>pat.karno</th>\n",
       "      <th>meal.cal</th>\n",
       "      <th>wt.loss</th>\n",
       "    </tr>\n",
       "  </thead>\n",
       "  <tbody>\n",
       "    <tr>\n",
       "      <th>0</th>\n",
       "      <td>1</td>\n",
       "      <td>3.0</td>\n",
       "      <td>306</td>\n",
       "      <td>2</td>\n",
       "      <td>74</td>\n",
       "      <td>1</td>\n",
       "      <td>1.0</td>\n",
       "      <td>90.0</td>\n",
       "      <td>100.0</td>\n",
       "      <td>1175.0</td>\n",
       "      <td>NaN</td>\n",
       "    </tr>\n",
       "    <tr>\n",
       "      <th>1</th>\n",
       "      <td>2</td>\n",
       "      <td>3.0</td>\n",
       "      <td>455</td>\n",
       "      <td>2</td>\n",
       "      <td>68</td>\n",
       "      <td>1</td>\n",
       "      <td>0.0</td>\n",
       "      <td>90.0</td>\n",
       "      <td>90.0</td>\n",
       "      <td>1225.0</td>\n",
       "      <td>15.0</td>\n",
       "    </tr>\n",
       "    <tr>\n",
       "      <th>2</th>\n",
       "      <td>3</td>\n",
       "      <td>3.0</td>\n",
       "      <td>1010</td>\n",
       "      <td>1</td>\n",
       "      <td>56</td>\n",
       "      <td>1</td>\n",
       "      <td>0.0</td>\n",
       "      <td>90.0</td>\n",
       "      <td>90.0</td>\n",
       "      <td>NaN</td>\n",
       "      <td>15.0</td>\n",
       "    </tr>\n",
       "    <tr>\n",
       "      <th>3</th>\n",
       "      <td>4</td>\n",
       "      <td>5.0</td>\n",
       "      <td>210</td>\n",
       "      <td>2</td>\n",
       "      <td>57</td>\n",
       "      <td>1</td>\n",
       "      <td>1.0</td>\n",
       "      <td>90.0</td>\n",
       "      <td>60.0</td>\n",
       "      <td>1150.0</td>\n",
       "      <td>11.0</td>\n",
       "    </tr>\n",
       "    <tr>\n",
       "      <th>4</th>\n",
       "      <td>5</td>\n",
       "      <td>1.0</td>\n",
       "      <td>883</td>\n",
       "      <td>2</td>\n",
       "      <td>60</td>\n",
       "      <td>1</td>\n",
       "      <td>0.0</td>\n",
       "      <td>100.0</td>\n",
       "      <td>90.0</td>\n",
       "      <td>NaN</td>\n",
       "      <td>0.0</td>\n",
       "    </tr>\n",
       "  </tbody>\n",
       "</table>\n",
       "</div>"
      ],
      "text/plain": [
       "   Unnamed: 0  inst  time  status  age  sex  ph.ecog  ph.karno  pat.karno  \\\n",
       "0           1   3.0   306       2   74    1      1.0      90.0      100.0   \n",
       "1           2   3.0   455       2   68    1      0.0      90.0       90.0   \n",
       "2           3   3.0  1010       1   56    1      0.0      90.0       90.0   \n",
       "3           4   5.0   210       2   57    1      1.0      90.0       60.0   \n",
       "4           5   1.0   883       2   60    1      0.0     100.0       90.0   \n",
       "\n",
       "   meal.cal  wt.loss  \n",
       "0    1175.0      NaN  \n",
       "1    1225.0     15.0  \n",
       "2       NaN     15.0  \n",
       "3    1150.0     11.0  \n",
       "4       NaN      0.0  "
      ]
     },
     "execution_count": 3,
     "metadata": {},
     "output_type": "execute_result"
    }
   ],
   "source": [
    "# Read the dataset (NCCTG lung cancer data)\n",
    "\n",
    "data = pd.read_csv(\"lung.csv\")\n",
    "data.head()"
   ]
  },
  {
   "cell_type": "code",
   "execution_count": 4,
   "metadata": {},
   "outputs": [
    {
     "data": {
      "text/plain": [
       "Index(['Unnamed: 0', 'inst', 'time', 'status', 'age', 'sex', 'ph.ecog',\n",
       "       'ph.karno', 'pat.karno', 'meal.cal', 'wt.loss'],\n",
       "      dtype='object')"
      ]
     },
     "execution_count": 4,
     "metadata": {},
     "output_type": "execute_result"
    }
   ],
   "source": [
    "data.columns"
   ]
  },
  {
   "cell_type": "code",
   "execution_count": 5,
   "metadata": {},
   "outputs": [
    {
     "name": "stdout",
     "output_type": "stream",
     "text": [
      "<class 'pandas.core.frame.DataFrame'>\n",
      "RangeIndex: 228 entries, 0 to 227\n",
      "Data columns (total 11 columns):\n",
      " #   Column      Non-Null Count  Dtype  \n",
      "---  ------      --------------  -----  \n",
      " 0   Unnamed: 0  228 non-null    int64  \n",
      " 1   inst        227 non-null    float64\n",
      " 2   time        228 non-null    int64  \n",
      " 3   status      228 non-null    int64  \n",
      " 4   age         228 non-null    int64  \n",
      " 5   sex         228 non-null    int64  \n",
      " 6   ph.ecog     227 non-null    float64\n",
      " 7   ph.karno    227 non-null    float64\n",
      " 8   pat.karno   225 non-null    float64\n",
      " 9   meal.cal    181 non-null    float64\n",
      " 10  wt.loss     214 non-null    float64\n",
      "dtypes: float64(6), int64(5)\n",
      "memory usage: 19.7 KB\n"
     ]
    }
   ],
   "source": [
    "data.info()"
   ]
  },
  {
   "cell_type": "code",
   "execution_count": 6,
   "metadata": {},
   "outputs": [
    {
     "data": {
      "text/html": [
       "<div>\n",
       "<style scoped>\n",
       "    .dataframe tbody tr th:only-of-type {\n",
       "        vertical-align: middle;\n",
       "    }\n",
       "\n",
       "    .dataframe tbody tr th {\n",
       "        vertical-align: top;\n",
       "    }\n",
       "\n",
       "    .dataframe thead th {\n",
       "        text-align: right;\n",
       "    }\n",
       "</style>\n",
       "<table border=\"1\" class=\"dataframe\">\n",
       "  <thead>\n",
       "    <tr style=\"text-align: right;\">\n",
       "      <th></th>\n",
       "      <th>Unnamed: 0</th>\n",
       "      <th>inst</th>\n",
       "      <th>time</th>\n",
       "      <th>status</th>\n",
       "      <th>age</th>\n",
       "      <th>sex</th>\n",
       "      <th>ph.ecog</th>\n",
       "      <th>ph.karno</th>\n",
       "      <th>pat.karno</th>\n",
       "      <th>meal.cal</th>\n",
       "      <th>wt.loss</th>\n",
       "    </tr>\n",
       "  </thead>\n",
       "  <tbody>\n",
       "    <tr>\n",
       "      <th>count</th>\n",
       "      <td>228.00000</td>\n",
       "      <td>227.000000</td>\n",
       "      <td>228.000000</td>\n",
       "      <td>228.000000</td>\n",
       "      <td>228.000000</td>\n",
       "      <td>228.000000</td>\n",
       "      <td>227.000000</td>\n",
       "      <td>227.000000</td>\n",
       "      <td>225.000000</td>\n",
       "      <td>181.000000</td>\n",
       "      <td>214.000000</td>\n",
       "    </tr>\n",
       "    <tr>\n",
       "      <th>mean</th>\n",
       "      <td>114.50000</td>\n",
       "      <td>11.088106</td>\n",
       "      <td>305.232456</td>\n",
       "      <td>1.723684</td>\n",
       "      <td>62.447368</td>\n",
       "      <td>1.394737</td>\n",
       "      <td>0.951542</td>\n",
       "      <td>81.938326</td>\n",
       "      <td>79.955556</td>\n",
       "      <td>928.779006</td>\n",
       "      <td>9.831776</td>\n",
       "    </tr>\n",
       "    <tr>\n",
       "      <th>std</th>\n",
       "      <td>65.96211</td>\n",
       "      <td>8.303491</td>\n",
       "      <td>210.645543</td>\n",
       "      <td>0.448159</td>\n",
       "      <td>9.073457</td>\n",
       "      <td>0.489870</td>\n",
       "      <td>0.717872</td>\n",
       "      <td>12.327955</td>\n",
       "      <td>14.623177</td>\n",
       "      <td>402.174707</td>\n",
       "      <td>13.139902</td>\n",
       "    </tr>\n",
       "    <tr>\n",
       "      <th>min</th>\n",
       "      <td>1.00000</td>\n",
       "      <td>1.000000</td>\n",
       "      <td>5.000000</td>\n",
       "      <td>1.000000</td>\n",
       "      <td>39.000000</td>\n",
       "      <td>1.000000</td>\n",
       "      <td>0.000000</td>\n",
       "      <td>50.000000</td>\n",
       "      <td>30.000000</td>\n",
       "      <td>96.000000</td>\n",
       "      <td>-24.000000</td>\n",
       "    </tr>\n",
       "    <tr>\n",
       "      <th>25%</th>\n",
       "      <td>57.75000</td>\n",
       "      <td>3.000000</td>\n",
       "      <td>166.750000</td>\n",
       "      <td>1.000000</td>\n",
       "      <td>56.000000</td>\n",
       "      <td>1.000000</td>\n",
       "      <td>0.000000</td>\n",
       "      <td>75.000000</td>\n",
       "      <td>70.000000</td>\n",
       "      <td>635.000000</td>\n",
       "      <td>0.000000</td>\n",
       "    </tr>\n",
       "    <tr>\n",
       "      <th>50%</th>\n",
       "      <td>114.50000</td>\n",
       "      <td>11.000000</td>\n",
       "      <td>255.500000</td>\n",
       "      <td>2.000000</td>\n",
       "      <td>63.000000</td>\n",
       "      <td>1.000000</td>\n",
       "      <td>1.000000</td>\n",
       "      <td>80.000000</td>\n",
       "      <td>80.000000</td>\n",
       "      <td>975.000000</td>\n",
       "      <td>7.000000</td>\n",
       "    </tr>\n",
       "    <tr>\n",
       "      <th>75%</th>\n",
       "      <td>171.25000</td>\n",
       "      <td>16.000000</td>\n",
       "      <td>396.500000</td>\n",
       "      <td>2.000000</td>\n",
       "      <td>69.000000</td>\n",
       "      <td>2.000000</td>\n",
       "      <td>1.000000</td>\n",
       "      <td>90.000000</td>\n",
       "      <td>90.000000</td>\n",
       "      <td>1150.000000</td>\n",
       "      <td>15.750000</td>\n",
       "    </tr>\n",
       "    <tr>\n",
       "      <th>max</th>\n",
       "      <td>228.00000</td>\n",
       "      <td>33.000000</td>\n",
       "      <td>1022.000000</td>\n",
       "      <td>2.000000</td>\n",
       "      <td>82.000000</td>\n",
       "      <td>2.000000</td>\n",
       "      <td>3.000000</td>\n",
       "      <td>100.000000</td>\n",
       "      <td>100.000000</td>\n",
       "      <td>2600.000000</td>\n",
       "      <td>68.000000</td>\n",
       "    </tr>\n",
       "  </tbody>\n",
       "</table>\n",
       "</div>"
      ],
      "text/plain": [
       "       Unnamed: 0        inst         time      status         age  \\\n",
       "count   228.00000  227.000000   228.000000  228.000000  228.000000   \n",
       "mean    114.50000   11.088106   305.232456    1.723684   62.447368   \n",
       "std      65.96211    8.303491   210.645543    0.448159    9.073457   \n",
       "min       1.00000    1.000000     5.000000    1.000000   39.000000   \n",
       "25%      57.75000    3.000000   166.750000    1.000000   56.000000   \n",
       "50%     114.50000   11.000000   255.500000    2.000000   63.000000   \n",
       "75%     171.25000   16.000000   396.500000    2.000000   69.000000   \n",
       "max     228.00000   33.000000  1022.000000    2.000000   82.000000   \n",
       "\n",
       "              sex     ph.ecog    ph.karno   pat.karno     meal.cal     wt.loss  \n",
       "count  228.000000  227.000000  227.000000  225.000000   181.000000  214.000000  \n",
       "mean     1.394737    0.951542   81.938326   79.955556   928.779006    9.831776  \n",
       "std      0.489870    0.717872   12.327955   14.623177   402.174707   13.139902  \n",
       "min      1.000000    0.000000   50.000000   30.000000    96.000000  -24.000000  \n",
       "25%      1.000000    0.000000   75.000000   70.000000   635.000000    0.000000  \n",
       "50%      1.000000    1.000000   80.000000   80.000000   975.000000    7.000000  \n",
       "75%      2.000000    1.000000   90.000000   90.000000  1150.000000   15.750000  \n",
       "max      2.000000    3.000000  100.000000  100.000000  2600.000000   68.000000  "
      ]
     },
     "execution_count": 6,
     "metadata": {},
     "output_type": "execute_result"
    }
   ],
   "source": [
    "data.describe()"
   ]
  },
  {
   "cell_type": "markdown",
   "metadata": {},
   "source": [
    "## General data distribution info\n",
    "- Histogram below indicates ~139 males, 90 females in the study."
   ]
  },
  {
   "cell_type": "code",
   "execution_count": 9,
   "metadata": {},
   "outputs": [
    {
     "name": "stdout",
     "output_type": "stream",
     "text": [
      "AxesSubplot(0.125,0.125;0.775x0.755)\n"
     ]
    },
    {
     "data": {
      "image/png": "[encoded data removed]",
      "text/plain": [
       "<Figure size 432x288 with 1 Axes>"
      ]
     },
     "metadata": {
      "needs_background": "light"
     },
     "output_type": "display_data"
    }
   ],
   "source": [
    "print (data[\"sex\"].hist())"
   ]
  },
  {
   "cell_type": "markdown",
   "metadata": {},
   "source": [
    "## Kaplan-Meier Estimator\n",
    "- A non-parametric statistic used to estimate the survival function from lifetime data. - It is often used to measure the fraction of patients living for a certain amount of time after treatment.\n",
    "    - S(ti) = S(ti-1)*(1-di/ni)\n",
    "    - S(ti-1) = probability of being alive at ti-1\n",
    "    - ni = #patients alive just before ti\n",
    "    - di = #events at ti\n",
    "    - t0=0; S(0)=1"
   ]
  },
  {
   "cell_type": "code",
   "execution_count": 7,
   "metadata": {},
   "outputs": [
    {
     "data": {
      "text/html": [
       "<div>\n",
       "<style scoped>\n",
       "    .dataframe tbody tr th:only-of-type {\n",
       "        vertical-align: middle;\n",
       "    }\n",
       "\n",
       "    .dataframe tbody tr th {\n",
       "        vertical-align: top;\n",
       "    }\n",
       "\n",
       "    .dataframe thead th {\n",
       "        text-align: right;\n",
       "    }\n",
       "</style>\n",
       "<table border=\"1\" class=\"dataframe\">\n",
       "  <thead>\n",
       "    <tr style=\"text-align: right;\">\n",
       "      <th></th>\n",
       "      <th>Unnamed: 0</th>\n",
       "      <th>inst</th>\n",
       "      <th>time</th>\n",
       "      <th>status</th>\n",
       "      <th>age</th>\n",
       "      <th>sex</th>\n",
       "      <th>ph.ecog</th>\n",
       "      <th>ph.karno</th>\n",
       "      <th>pat.karno</th>\n",
       "      <th>meal.cal</th>\n",
       "      <th>wt.loss</th>\n",
       "      <th>dead</th>\n",
       "    </tr>\n",
       "  </thead>\n",
       "  <tbody>\n",
       "    <tr>\n",
       "      <th>0</th>\n",
       "      <td>1</td>\n",
       "      <td>3.0</td>\n",
       "      <td>306</td>\n",
       "      <td>2</td>\n",
       "      <td>74</td>\n",
       "      <td>1</td>\n",
       "      <td>1.0</td>\n",
       "      <td>90.0</td>\n",
       "      <td>100.0</td>\n",
       "      <td>1175.0</td>\n",
       "      <td>NaN</td>\n",
       "      <td>1.0</td>\n",
       "    </tr>\n",
       "    <tr>\n",
       "      <th>1</th>\n",
       "      <td>2</td>\n",
       "      <td>3.0</td>\n",
       "      <td>455</td>\n",
       "      <td>2</td>\n",
       "      <td>68</td>\n",
       "      <td>1</td>\n",
       "      <td>0.0</td>\n",
       "      <td>90.0</td>\n",
       "      <td>90.0</td>\n",
       "      <td>1225.0</td>\n",
       "      <td>15.0</td>\n",
       "      <td>1.0</td>\n",
       "    </tr>\n",
       "    <tr>\n",
       "      <th>2</th>\n",
       "      <td>3</td>\n",
       "      <td>3.0</td>\n",
       "      <td>1010</td>\n",
       "      <td>1</td>\n",
       "      <td>56</td>\n",
       "      <td>1</td>\n",
       "      <td>0.0</td>\n",
       "      <td>90.0</td>\n",
       "      <td>90.0</td>\n",
       "      <td>NaN</td>\n",
       "      <td>15.0</td>\n",
       "      <td>0.0</td>\n",
       "    </tr>\n",
       "    <tr>\n",
       "      <th>3</th>\n",
       "      <td>4</td>\n",
       "      <td>5.0</td>\n",
       "      <td>210</td>\n",
       "      <td>2</td>\n",
       "      <td>57</td>\n",
       "      <td>1</td>\n",
       "      <td>1.0</td>\n",
       "      <td>90.0</td>\n",
       "      <td>60.0</td>\n",
       "      <td>1150.0</td>\n",
       "      <td>11.0</td>\n",
       "      <td>1.0</td>\n",
       "    </tr>\n",
       "    <tr>\n",
       "      <th>4</th>\n",
       "      <td>5</td>\n",
       "      <td>1.0</td>\n",
       "      <td>883</td>\n",
       "      <td>2</td>\n",
       "      <td>60</td>\n",
       "      <td>1</td>\n",
       "      <td>0.0</td>\n",
       "      <td>100.0</td>\n",
       "      <td>90.0</td>\n",
       "      <td>NaN</td>\n",
       "      <td>0.0</td>\n",
       "      <td>1.0</td>\n",
       "    </tr>\n",
       "  </tbody>\n",
       "</table>\n",
       "</div>"
      ],
      "text/plain": [
       "   Unnamed: 0  inst  time  status  age  sex  ph.ecog  ph.karno  pat.karno  \\\n",
       "0           1   3.0   306       2   74    1      1.0      90.0      100.0   \n",
       "1           2   3.0   455       2   68    1      0.0      90.0       90.0   \n",
       "2           3   3.0  1010       1   56    1      0.0      90.0       90.0   \n",
       "3           4   5.0   210       2   57    1      1.0      90.0       60.0   \n",
       "4           5   1.0   883       2   60    1      0.0     100.0       90.0   \n",
       "\n",
       "   meal.cal  wt.loss  dead  \n",
       "0    1175.0      NaN   1.0  \n",
       "1    1225.0     15.0   1.0  \n",
       "2       NaN     15.0   0.0  \n",
       "3    1150.0     11.0   1.0  \n",
       "4       NaN      0.0   1.0  "
      ]
     },
     "execution_count": 7,
     "metadata": {},
     "output_type": "execute_result"
    }
   ],
   "source": [
    "# Create a KM object, then organize data :\n",
    "\n",
    "kmf = KaplanMeierFitter() \n",
    "\n",
    "# If status = 1 , then dead = 0\n",
    "# If status = 2 , then dead = 1\n",
    "\n",
    "data.loc[data.status == 1, 'dead'] = 0\n",
    "data.loc[data.status == 2, 'dead'] = 1\n",
    "\n",
    "data.head()"
   ]
  },
  {
   "cell_type": "code",
   "execution_count": 10,
   "metadata": {},
   "outputs": [
    {
     "data": {
      "text/plain": [
       "<lifelines.KaplanMeierFitter:\"KM_estimate\", fitted with 228 total observations, 63 right-censored observations>"
      ]
     },
     "execution_count": 10,
     "metadata": {},
     "output_type": "execute_result"
    }
   ],
   "source": [
    "# fit data into KM object. The event of interest is death (the \"dead\" column.)\n",
    "# 1st arg: array or pd.Series of individual survival times\n",
    "# 2nd arg: array or pd.Series that indicates if the event occured.\n",
    "\n",
    "kmf.fit(durations =  data[\"time\"], event_observed = data[\"dead\"])"
   ]
  },
  {
   "cell_type": "markdown",
   "metadata": {},
   "source": [
    "## Event Tables\n",
    "- (1) Event_at: It stores the value of the timeline for our dataset, i.e., when was the patient observed in our experiment or when was the experiment conducted. \n",
    "    - In this case - it stores the value of survival days for a patient.\n",
    "- (2) At_risk: The number of current patients. At the start, it will be the total number of patients we will observe in our experiment. \n",
    "    - If at a certain time, new patients are added, then we have to increase its value accordingly. Basically, we can say that: at_risk = current patients at_risk + entrance — removed\n",
    "- (3) Entrance: It stores the value of new patients in a given timeline. It’s possible that while we have other patients, some new patients are also diagnosed. That’s why we add it here.\n",
    "- (4) Censored: the goal is to find the survival probability for a patient. If at a specific timeline a person under experiment is alive, then that person goes into the censored category. If we don’t have information about when a patient died, then we add it to the censored data. Other possibilities are if a patient chooses to shift to another town where the experiment can’t be conducted, then we add that patient into the censored category.\n",
    "- (5) Observed: The number of patients that died during the experiment.\n",
    "- (6) Removed: The values of patients that are no longer part of our experiment. If a person died or is censored, then they fall into this category."
   ]
  },
  {
   "cell_type": "code",
   "execution_count": 11,
   "metadata": {},
   "outputs": [
    {
     "data": {
      "text/html": [
       "<div>\n",
       "<style scoped>\n",
       "    .dataframe tbody tr th:only-of-type {\n",
       "        vertical-align: middle;\n",
       "    }\n",
       "\n",
       "    .dataframe tbody tr th {\n",
       "        vertical-align: top;\n",
       "    }\n",
       "\n",
       "    .dataframe thead th {\n",
       "        text-align: right;\n",
       "    }\n",
       "</style>\n",
       "<table border=\"1\" class=\"dataframe\">\n",
       "  <thead>\n",
       "    <tr style=\"text-align: right;\">\n",
       "      <th></th>\n",
       "      <th>removed</th>\n",
       "      <th>observed</th>\n",
       "      <th>censored</th>\n",
       "      <th>entrance</th>\n",
       "      <th>at_risk</th>\n",
       "    </tr>\n",
       "    <tr>\n",
       "      <th>event_at</th>\n",
       "      <th></th>\n",
       "      <th></th>\n",
       "      <th></th>\n",
       "      <th></th>\n",
       "      <th></th>\n",
       "    </tr>\n",
       "  </thead>\n",
       "  <tbody>\n",
       "    <tr>\n",
       "      <th>0.0</th>\n",
       "      <td>0</td>\n",
       "      <td>0</td>\n",
       "      <td>0</td>\n",
       "      <td>228</td>\n",
       "      <td>228</td>\n",
       "    </tr>\n",
       "    <tr>\n",
       "      <th>5.0</th>\n",
       "      <td>1</td>\n",
       "      <td>1</td>\n",
       "      <td>0</td>\n",
       "      <td>0</td>\n",
       "      <td>228</td>\n",
       "    </tr>\n",
       "    <tr>\n",
       "      <th>11.0</th>\n",
       "      <td>3</td>\n",
       "      <td>3</td>\n",
       "      <td>0</td>\n",
       "      <td>0</td>\n",
       "      <td>227</td>\n",
       "    </tr>\n",
       "    <tr>\n",
       "      <th>12.0</th>\n",
       "      <td>1</td>\n",
       "      <td>1</td>\n",
       "      <td>0</td>\n",
       "      <td>0</td>\n",
       "      <td>224</td>\n",
       "    </tr>\n",
       "    <tr>\n",
       "      <th>13.0</th>\n",
       "      <td>2</td>\n",
       "      <td>2</td>\n",
       "      <td>0</td>\n",
       "      <td>0</td>\n",
       "      <td>223</td>\n",
       "    </tr>\n",
       "    <tr>\n",
       "      <th>...</th>\n",
       "      <td>...</td>\n",
       "      <td>...</td>\n",
       "      <td>...</td>\n",
       "      <td>...</td>\n",
       "      <td>...</td>\n",
       "    </tr>\n",
       "    <tr>\n",
       "      <th>840.0</th>\n",
       "      <td>1</td>\n",
       "      <td>0</td>\n",
       "      <td>1</td>\n",
       "      <td>0</td>\n",
       "      <td>5</td>\n",
       "    </tr>\n",
       "    <tr>\n",
       "      <th>883.0</th>\n",
       "      <td>1</td>\n",
       "      <td>1</td>\n",
       "      <td>0</td>\n",
       "      <td>0</td>\n",
       "      <td>4</td>\n",
       "    </tr>\n",
       "    <tr>\n",
       "      <th>965.0</th>\n",
       "      <td>1</td>\n",
       "      <td>0</td>\n",
       "      <td>1</td>\n",
       "      <td>0</td>\n",
       "      <td>3</td>\n",
       "    </tr>\n",
       "    <tr>\n",
       "      <th>1010.0</th>\n",
       "      <td>1</td>\n",
       "      <td>0</td>\n",
       "      <td>1</td>\n",
       "      <td>0</td>\n",
       "      <td>2</td>\n",
       "    </tr>\n",
       "    <tr>\n",
       "      <th>1022.0</th>\n",
       "      <td>1</td>\n",
       "      <td>0</td>\n",
       "      <td>1</td>\n",
       "      <td>0</td>\n",
       "      <td>1</td>\n",
       "    </tr>\n",
       "  </tbody>\n",
       "</table>\n",
       "<p>187 rows × 5 columns</p>\n",
       "</div>"
      ],
      "text/plain": [
       "          removed  observed  censored  entrance  at_risk\n",
       "event_at                                                \n",
       "0.0             0         0         0       228      228\n",
       "5.0             1         1         0         0      228\n",
       "11.0            3         3         0         0      227\n",
       "12.0            1         1         0         0      224\n",
       "13.0            2         2         0         0      223\n",
       "...           ...       ...       ...       ...      ...\n",
       "840.0           1         0         1         0        5\n",
       "883.0           1         1         0         0        4\n",
       "965.0           1         0         1         0        3\n",
       "1010.0          1         0         1         0        2\n",
       "1022.0          1         0         1         0        1\n",
       "\n",
       "[187 rows x 5 columns]"
      ]
     },
     "execution_count": 11,
     "metadata": {},
     "output_type": "execute_result"
    }
   ],
   "source": [
    "kmf.event_table"
   ]
  },
  {
   "cell_type": "code",
   "execution_count": 13,
   "metadata": {},
   "outputs": [
    {
     "data": {
      "text/plain": [
       "1.0"
      ]
     },
     "execution_count": 13,
     "metadata": {},
     "output_type": "execute_result"
    }
   ],
   "source": [
    "# Hand-calculating survival probability:\n",
    "event_at_0 = kmf.event_table.iloc[0,:]\n",
    "surv_for_0 = (event_at_0.at_risk - event_at_0.observed)/event_at_0.at_risk\n",
    "surv_for_0"
   ]
  },
  {
   "cell_type": "code",
   "execution_count": 14,
   "metadata": {},
   "outputs": [
    {
     "data": {
      "text/plain": [
       "0.9956140350877193"
      ]
     },
     "execution_count": 14,
     "metadata": {},
     "output_type": "execute_result"
    }
   ],
   "source": [
    "event_at_5 = kmf.event_table.iloc[1,:]\n",
    "surv_for_5 = (event_at_5.at_risk - event_at_5.observed)/event_at_5.at_risk\n",
    "surv_for_5"
   ]
  },
  {
   "cell_type": "code",
   "execution_count": 15,
   "metadata": {},
   "outputs": [
    {
     "data": {
      "text/plain": [
       "0.986784140969163"
      ]
     },
     "execution_count": 15,
     "metadata": {},
     "output_type": "execute_result"
    }
   ],
   "source": [
    "event_at_11 = kmf.event_table.iloc[2,:]\n",
    "surv_for_11 = (event_at_11.at_risk - event_at_11.observed)/event_at_11.at_risk\n",
    "surv_for_11"
   ]
  },
  {
   "cell_type": "code",
   "execution_count": 16,
   "metadata": {},
   "outputs": [
    {
     "name": "stdout",
     "output_type": "stream",
     "text": [
      "0.9956140350877193\n",
      "0.9824561403508771\n"
     ]
    }
   ],
   "source": [
    "surv_after_5  = surv_for_0 * surv_for_5\n",
    "surv_after_11 = surv_for_0 * surv_for_5 * surv_for_11\n",
    "\n",
    "print (surv_after_5)\n",
    "print (surv_after_11)"
   ]
  },
  {
   "cell_type": "code",
   "execution_count": 17,
   "metadata": {},
   "outputs": [
    {
     "data": {
      "text/plain": [
       "0.9824561403508766"
      ]
     },
     "execution_count": 17,
     "metadata": {},
     "output_type": "execute_result"
    }
   ],
   "source": [
    "# The kmf object provides these calculations for us :\n",
    "kmf.predict(11)"
   ]
  },
  {
   "cell_type": "code",
   "execution_count": 18,
   "metadata": {},
   "outputs": [
    {
     "data": {
      "text/plain": [
       "0     1.000000\n",
       "5     0.995614\n",
       "11    0.982456\n",
       "12    0.978070\n",
       "Name: KM_estimate, dtype: float64"
      ]
     },
     "execution_count": 18,
     "metadata": {},
     "output_type": "execute_result"
    }
   ],
   "source": [
    "kmf.predict([0,5,11,12])"
   ]
  },
  {
   "cell_type": "code",
   "execution_count": 19,
   "metadata": {},
   "outputs": [
    {
     "data": {
      "text/html": [
       "<div>\n",
       "<style scoped>\n",
       "    .dataframe tbody tr th:only-of-type {\n",
       "        vertical-align: middle;\n",
       "    }\n",
       "\n",
       "    .dataframe tbody tr th {\n",
       "        vertical-align: top;\n",
       "    }\n",
       "\n",
       "    .dataframe thead th {\n",
       "        text-align: right;\n",
       "    }\n",
       "</style>\n",
       "<table border=\"1\" class=\"dataframe\">\n",
       "  <thead>\n",
       "    <tr style=\"text-align: right;\">\n",
       "      <th></th>\n",
       "      <th>KM_estimate</th>\n",
       "    </tr>\n",
       "    <tr>\n",
       "      <th>timeline</th>\n",
       "      <th></th>\n",
       "    </tr>\n",
       "  </thead>\n",
       "  <tbody>\n",
       "    <tr>\n",
       "      <th>0.0</th>\n",
       "      <td>1.000000</td>\n",
       "    </tr>\n",
       "    <tr>\n",
       "      <th>5.0</th>\n",
       "      <td>0.995614</td>\n",
       "    </tr>\n",
       "    <tr>\n",
       "      <th>11.0</th>\n",
       "      <td>0.982456</td>\n",
       "    </tr>\n",
       "    <tr>\n",
       "      <th>12.0</th>\n",
       "      <td>0.978070</td>\n",
       "    </tr>\n",
       "    <tr>\n",
       "      <th>13.0</th>\n",
       "      <td>0.969298</td>\n",
       "    </tr>\n",
       "    <tr>\n",
       "      <th>...</th>\n",
       "      <td>...</td>\n",
       "    </tr>\n",
       "    <tr>\n",
       "      <th>840.0</th>\n",
       "      <td>0.067127</td>\n",
       "    </tr>\n",
       "    <tr>\n",
       "      <th>883.0</th>\n",
       "      <td>0.050346</td>\n",
       "    </tr>\n",
       "    <tr>\n",
       "      <th>965.0</th>\n",
       "      <td>0.050346</td>\n",
       "    </tr>\n",
       "    <tr>\n",
       "      <th>1010.0</th>\n",
       "      <td>0.050346</td>\n",
       "    </tr>\n",
       "    <tr>\n",
       "      <th>1022.0</th>\n",
       "      <td>0.050346</td>\n",
       "    </tr>\n",
       "  </tbody>\n",
       "</table>\n",
       "<p>187 rows × 1 columns</p>\n",
       "</div>"
      ],
      "text/plain": [
       "          KM_estimate\n",
       "timeline             \n",
       "0.0          1.000000\n",
       "5.0          0.995614\n",
       "11.0         0.982456\n",
       "12.0         0.978070\n",
       "13.0         0.969298\n",
       "...               ...\n",
       "840.0        0.067127\n",
       "883.0        0.050346\n",
       "965.0        0.050346\n",
       "1010.0       0.050346\n",
       "1022.0       0.050346\n",
       "\n",
       "[187 rows x 1 columns]"
      ]
     },
     "execution_count": 19,
     "metadata": {},
     "output_type": "execute_result"
    }
   ],
   "source": [
    "# To get full list :\n",
    "kmf.survival_function_"
   ]
  },
  {
   "cell_type": "code",
   "execution_count": 20,
   "metadata": {},
   "outputs": [
    {
     "data": {
      "text/plain": [
       "310.0"
      ]
     },
     "execution_count": 20,
     "metadata": {},
     "output_type": "execute_result"
    }
   ],
   "source": [
    "# The number of days where on average 50% of patients have died.\n",
    "kmf.median_survival_time_"
   ]
  },
  {
   "cell_type": "code",
   "execution_count": 21,
   "metadata": {},
   "outputs": [
    {
     "data": {
      "image/png": "[encoded data removed]",
      "text/plain": [
       "<Figure size 432x288 with 1 Axes>"
      ]
     },
     "metadata": {
      "needs_background": "light"
     },
     "output_type": "display_data"
    }
   ],
   "source": [
    "kmf.plot()\n",
    "plt.title(\"The Kaplan-Meier Estimate\")\n",
    "plt.ylabel(\"Probability of patient still alive\")\n",
    "plt.show()"
   ]
  },
  {
   "cell_type": "code",
   "execution_count": 166,
   "metadata": {},
   "outputs": [
    {
     "data": {
      "text/html": [
       "<div>\n",
       "<style scoped>\n",
       "    .dataframe tbody tr th:only-of-type {\n",
       "        vertical-align: middle;\n",
       "    }\n",
       "\n",
       "    .dataframe tbody tr th {\n",
       "        vertical-align: top;\n",
       "    }\n",
       "\n",
       "    .dataframe thead th {\n",
       "        text-align: right;\n",
       "    }\n",
       "</style>\n",
       "<table border=\"1\" class=\"dataframe\">\n",
       "  <thead>\n",
       "    <tr style=\"text-align: right;\">\n",
       "      <th></th>\n",
       "      <th>KM_estimate_lower_0.95</th>\n",
       "      <th>KM_estimate_upper_0.95</th>\n",
       "    </tr>\n",
       "  </thead>\n",
       "  <tbody>\n",
       "    <tr>\n",
       "      <th>0.0</th>\n",
       "      <td>1.000000</td>\n",
       "      <td>1.000000</td>\n",
       "    </tr>\n",
       "    <tr>\n",
       "      <th>5.0</th>\n",
       "      <td>0.969277</td>\n",
       "      <td>0.999381</td>\n",
       "    </tr>\n",
       "    <tr>\n",
       "      <th>11.0</th>\n",
       "      <td>0.953935</td>\n",
       "      <td>0.993379</td>\n",
       "    </tr>\n",
       "    <tr>\n",
       "      <th>12.0</th>\n",
       "      <td>0.948120</td>\n",
       "      <td>0.990813</td>\n",
       "    </tr>\n",
       "    <tr>\n",
       "      <th>13.0</th>\n",
       "      <td>0.936682</td>\n",
       "      <td>0.985244</td>\n",
       "    </tr>\n",
       "    <tr>\n",
       "      <th>...</th>\n",
       "      <td>...</td>\n",
       "      <td>...</td>\n",
       "    </tr>\n",
       "    <tr>\n",
       "      <th>840.0</th>\n",
       "      <td>0.030728</td>\n",
       "      <td>0.123060</td>\n",
       "    </tr>\n",
       "    <tr>\n",
       "      <th>883.0</th>\n",
       "      <td>0.017866</td>\n",
       "      <td>0.108662</td>\n",
       "    </tr>\n",
       "    <tr>\n",
       "      <th>965.0</th>\n",
       "      <td>0.017866</td>\n",
       "      <td>0.108662</td>\n",
       "    </tr>\n",
       "    <tr>\n",
       "      <th>1010.0</th>\n",
       "      <td>0.017866</td>\n",
       "      <td>0.108662</td>\n",
       "    </tr>\n",
       "    <tr>\n",
       "      <th>1022.0</th>\n",
       "      <td>0.017866</td>\n",
       "      <td>0.108662</td>\n",
       "    </tr>\n",
       "  </tbody>\n",
       "</table>\n",
       "<p>187 rows × 2 columns</p>\n",
       "</div>"
      ],
      "text/plain": [
       "        KM_estimate_lower_0.95  KM_estimate_upper_0.95\n",
       "0.0                   1.000000                1.000000\n",
       "5.0                   0.969277                0.999381\n",
       "11.0                  0.953935                0.993379\n",
       "12.0                  0.948120                0.990813\n",
       "13.0                  0.936682                0.985244\n",
       "...                        ...                     ...\n",
       "840.0                 0.030728                0.123060\n",
       "883.0                 0.017866                0.108662\n",
       "965.0                 0.017866                0.108662\n",
       "1010.0                0.017866                0.108662\n",
       "1022.0                0.017866                0.108662\n",
       "\n",
       "[187 rows x 2 columns]"
      ]
     },
     "execution_count": 166,
     "metadata": {},
     "output_type": "execute_result"
    }
   ],
   "source": [
    "# above graph: light blue = survival confidence interval\n",
    "kmf.confidence_interval_"
   ]
  },
  {
   "cell_type": "code",
   "execution_count": 167,
   "metadata": {},
   "outputs": [
    {
     "data": {
      "text/html": [
       "<div>\n",
       "<style scoped>\n",
       "    .dataframe tbody tr th:only-of-type {\n",
       "        vertical-align: middle;\n",
       "    }\n",
       "\n",
       "    .dataframe tbody tr th {\n",
       "        vertical-align: top;\n",
       "    }\n",
       "\n",
       "    .dataframe thead th {\n",
       "        text-align: right;\n",
       "    }\n",
       "</style>\n",
       "<table border=\"1\" class=\"dataframe\">\n",
       "  <thead>\n",
       "    <tr style=\"text-align: right;\">\n",
       "      <th></th>\n",
       "      <th>KM_estimate</th>\n",
       "    </tr>\n",
       "    <tr>\n",
       "      <th>timeline</th>\n",
       "      <th></th>\n",
       "    </tr>\n",
       "  </thead>\n",
       "  <tbody>\n",
       "    <tr>\n",
       "      <th>0.0</th>\n",
       "      <td>0.000000</td>\n",
       "    </tr>\n",
       "    <tr>\n",
       "      <th>5.0</th>\n",
       "      <td>0.004386</td>\n",
       "    </tr>\n",
       "    <tr>\n",
       "      <th>11.0</th>\n",
       "      <td>0.017544</td>\n",
       "    </tr>\n",
       "    <tr>\n",
       "      <th>12.0</th>\n",
       "      <td>0.021930</td>\n",
       "    </tr>\n",
       "    <tr>\n",
       "      <th>13.0</th>\n",
       "      <td>0.030702</td>\n",
       "    </tr>\n",
       "    <tr>\n",
       "      <th>...</th>\n",
       "      <td>...</td>\n",
       "    </tr>\n",
       "    <tr>\n",
       "      <th>840.0</th>\n",
       "      <td>0.932873</td>\n",
       "    </tr>\n",
       "    <tr>\n",
       "      <th>883.0</th>\n",
       "      <td>0.949654</td>\n",
       "    </tr>\n",
       "    <tr>\n",
       "      <th>965.0</th>\n",
       "      <td>0.949654</td>\n",
       "    </tr>\n",
       "    <tr>\n",
       "      <th>1010.0</th>\n",
       "      <td>0.949654</td>\n",
       "    </tr>\n",
       "    <tr>\n",
       "      <th>1022.0</th>\n",
       "      <td>0.949654</td>\n",
       "    </tr>\n",
       "  </tbody>\n",
       "</table>\n",
       "<p>187 rows × 1 columns</p>\n",
       "</div>"
      ],
      "text/plain": [
       "          KM_estimate\n",
       "timeline             \n",
       "0.0          0.000000\n",
       "5.0          0.004386\n",
       "11.0         0.017544\n",
       "12.0         0.021930\n",
       "13.0         0.030702\n",
       "...               ...\n",
       "840.0        0.932873\n",
       "883.0        0.949654\n",
       "965.0        0.949654\n",
       "1010.0       0.949654\n",
       "1022.0       0.949654\n",
       "\n",
       "[187 rows x 1 columns]"
      ]
     },
     "execution_count": 167,
     "metadata": {},
     "output_type": "execute_result"
    }
   ],
   "source": [
    "# Probabaility of die :\n",
    "#p(1022) = p(0) +......+p(1022)\n",
    "\n",
    "kmf.cumulative_density_"
   ]
  },
  {
   "cell_type": "code",
   "execution_count": 168,
   "metadata": {},
   "outputs": [
    {
     "data": {
      "text/html": [
       "<div>\n",
       "<style scoped>\n",
       "    .dataframe tbody tr th:only-of-type {\n",
       "        vertical-align: middle;\n",
       "    }\n",
       "\n",
       "    .dataframe tbody tr th {\n",
       "        vertical-align: top;\n",
       "    }\n",
       "\n",
       "    .dataframe thead th {\n",
       "        text-align: right;\n",
       "    }\n",
       "</style>\n",
       "<table border=\"1\" class=\"dataframe\">\n",
       "  <thead>\n",
       "    <tr style=\"text-align: right;\">\n",
       "      <th></th>\n",
       "      <th>KM_estimate</th>\n",
       "    </tr>\n",
       "    <tr>\n",
       "      <th>timeline</th>\n",
       "      <th></th>\n",
       "    </tr>\n",
       "  </thead>\n",
       "  <tbody>\n",
       "    <tr>\n",
       "      <th>0.0</th>\n",
       "      <td>0.000000</td>\n",
       "    </tr>\n",
       "    <tr>\n",
       "      <th>5.0</th>\n",
       "      <td>0.004386</td>\n",
       "    </tr>\n",
       "    <tr>\n",
       "      <th>11.0</th>\n",
       "      <td>0.017544</td>\n",
       "    </tr>\n",
       "    <tr>\n",
       "      <th>12.0</th>\n",
       "      <td>0.021930</td>\n",
       "    </tr>\n",
       "    <tr>\n",
       "      <th>13.0</th>\n",
       "      <td>0.030702</td>\n",
       "    </tr>\n",
       "  </tbody>\n",
       "</table>\n",
       "</div>"
      ],
      "text/plain": [
       "          KM_estimate\n",
       "timeline             \n",
       "0.0          0.000000\n",
       "5.0          0.004386\n",
       "11.0         0.017544\n",
       "12.0         0.021930\n",
       "13.0         0.030702"
      ]
     },
     "execution_count": 168,
     "metadata": {},
     "output_type": "execute_result"
    }
   ],
   "source": [
    "kmf.cumulative_density_.head()"
   ]
  },
  {
   "cell_type": "code",
   "execution_count": 169,
   "metadata": {},
   "outputs": [
    {
     "data": {
      "text/html": [
       "<div>\n",
       "<style scoped>\n",
       "    .dataframe tbody tr th:only-of-type {\n",
       "        vertical-align: middle;\n",
       "    }\n",
       "\n",
       "    .dataframe tbody tr th {\n",
       "        vertical-align: top;\n",
       "    }\n",
       "\n",
       "    .dataframe thead th {\n",
       "        text-align: right;\n",
       "    }\n",
       "</style>\n",
       "<table border=\"1\" class=\"dataframe\">\n",
       "  <thead>\n",
       "    <tr style=\"text-align: right;\">\n",
       "      <th></th>\n",
       "      <th>KM_estimate</th>\n",
       "    </tr>\n",
       "    <tr>\n",
       "      <th>timeline</th>\n",
       "      <th></th>\n",
       "    </tr>\n",
       "  </thead>\n",
       "  <tbody>\n",
       "    <tr>\n",
       "      <th>840.0</th>\n",
       "      <td>0.932873</td>\n",
       "    </tr>\n",
       "    <tr>\n",
       "      <th>883.0</th>\n",
       "      <td>0.949654</td>\n",
       "    </tr>\n",
       "    <tr>\n",
       "      <th>965.0</th>\n",
       "      <td>0.949654</td>\n",
       "    </tr>\n",
       "    <tr>\n",
       "      <th>1010.0</th>\n",
       "      <td>0.949654</td>\n",
       "    </tr>\n",
       "    <tr>\n",
       "      <th>1022.0</th>\n",
       "      <td>0.949654</td>\n",
       "    </tr>\n",
       "  </tbody>\n",
       "</table>\n",
       "</div>"
      ],
      "text/plain": [
       "          KM_estimate\n",
       "timeline             \n",
       "840.0        0.932873\n",
       "883.0        0.949654\n",
       "965.0        0.949654\n",
       "1010.0       0.949654\n",
       "1022.0       0.949654"
      ]
     },
     "execution_count": 169,
     "metadata": {},
     "output_type": "execute_result"
    }
   ],
   "source": [
    "kmf.cumulative_density_.tail()"
   ]
  },
  {
   "cell_type": "code",
   "execution_count": 170,
   "metadata": {},
   "outputs": [
    {
     "data": {
      "text/plain": [
       "<matplotlib.axes._subplots.AxesSubplot at 0x6ef40e59c8>"
      ]
     },
     "execution_count": 170,
     "metadata": {},
     "output_type": "execute_result"
    },
    {
     "data": {
      "image/png": "[encoded data removed]",
      "text/plain": [
       "<Figure size 432x288 with 1 Axes>"
      ]
     },
     "metadata": {
      "needs_background": "light"
     },
     "output_type": "display_data"
    }
   ],
   "source": [
    "kmf.plot_cumulative_density()"
   ]
  },
  {
   "cell_type": "code",
   "execution_count": 171,
   "metadata": {},
   "outputs": [
    {
     "data": {
      "text/plain": [
       "<matplotlib.axes._subplots.AxesSubplot at 0x6ef4244148>"
      ]
     },
     "execution_count": 171,
     "metadata": {},
     "output_type": "execute_result"
    },
    {
     "data": {
      "image/png": "[encoded data removed]",
      "text/plain": [
       "<Figure size 432x288 with 1 Axes>"
      ]
     },
     "metadata": {
      "needs_background": "light"
     },
     "output_type": "display_data"
    }
   ],
   "source": [
    "kmf.plot_loglogs()"
   ]
  },
  {
   "cell_type": "markdown",
   "metadata": {},
   "source": [
    "## Hazard rates using Nelson-Aalen\n",
    "- If we are curious about the hazard function h(t) of a population, we, unfortunately, can’t transform the Kaplan Meier estimate. For that, we use the Nelson-Aalen hazard function."
   ]
  },
  {
   "cell_type": "code",
   "execution_count": 22,
   "metadata": {},
   "outputs": [
    {
     "data": {
      "text/plain": [
       "<lifelines.NelsonAalenFitter:\"NA_estimate\", fitted with 228 total observations, 63 right-censored observations>"
      ]
     },
     "execution_count": 22,
     "metadata": {},
     "output_type": "execute_result"
    }
   ],
   "source": [
    "from lifelines import NelsonAalenFitter\n",
    "naf = NelsonAalenFitter()\n",
    "\n",
    "naf.fit(data[\"time\"],event_observed = data[\"dead\"])"
   ]
  },
  {
   "cell_type": "code",
   "execution_count": 24,
   "metadata": {},
   "outputs": [
    {
     "name": "stdout",
     "output_type": "stream",
     "text": [
      "          NA_estimate\n",
      "timeline             \n",
      "0.0          0.000000\n",
      "5.0          0.004386\n",
      "11.0         0.017660\n",
      "12.0         0.022125\n",
      "13.0         0.031114\n",
      "          NA_estimate\n",
      "timeline             \n",
      "840.0        2.641565\n",
      "883.0        2.891565\n",
      "965.0        2.891565\n",
      "1010.0       2.891565\n",
      "1022.0       2.891565\n"
     ]
    }
   ],
   "source": [
    "print(naf.cumulative_hazard_.head())\n",
    "print(naf.cumulative_hazard_.tail())"
   ]
  },
  {
   "cell_type": "code",
   "execution_count": 25,
   "metadata": {},
   "outputs": [
    {
     "data": {
      "text/plain": [
       "<AxesSubplot:xlabel='timeline'>"
      ]
     },
     "execution_count": 25,
     "metadata": {},
     "output_type": "execute_result"
    },
    {
     "data": {
      "image/png": "[encoded data removed]",
      "text/plain": [
       "<Figure size 432x288 with 1 Axes>"
      ]
     },
     "metadata": {
      "needs_background": "light"
     },
     "output_type": "display_data"
    }
   ],
   "source": [
    "kmf.plot_cumulative_density()\n",
    "naf.plot_cumulative_hazard()"
   ]
  },
  {
   "cell_type": "code",
   "execution_count": 26,
   "metadata": {},
   "outputs": [
    {
     "data": {
      "text/plain": [
       "<AxesSubplot:xlabel='timeline'>"
      ]
     },
     "execution_count": 26,
     "metadata": {},
     "output_type": "execute_result"
    },
    {
     "data": {
      "image/png": "[encoded data removed]",
      "text/plain": [
       "<Figure size 432x288 with 1 Axes>"
      ]
     },
     "metadata": {
      "needs_background": "light"
     },
     "output_type": "display_data"
    }
   ],
   "source": [
    "naf.plot()"
   ]
  },
  {
   "cell_type": "code",
   "execution_count": 27,
   "metadata": {},
   "outputs": [
    {
     "data": {
      "text/plain": [
       "2.8915648373471052"
      ]
     },
     "execution_count": 27,
     "metadata": {},
     "output_type": "execute_result"
    }
   ],
   "source": [
    "# We can predict the value of a certain point :\n",
    "naf.predict(1022)"
   ]
  }
 ],
 "metadata": {
  "kernelspec": {
   "display_name": "Python 3",
   "language": "python",
   "name": "python3"
  },
  "language_info": {
   "codemirror_mode": {
    "name": "ipython",
    "version": 3
   },
   "file_extension": ".py",
   "mimetype": "text/x-python",
   "name": "python",
   "nbconvert_exporter": "python",
   "pygments_lexer": "ipython3",
   "version": "3.8.6"
  }
 },
 "nbformat": 4,
 "nbformat_minor": 4
}
